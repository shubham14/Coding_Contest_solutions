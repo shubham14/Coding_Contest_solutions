{
 "cells": [
  {
   "cell_type": "code",
   "execution_count": 2,
   "metadata": {},
   "outputs": [
    {
     "data": {
      "text/plain": [
       "'\\nMy solutions to problems in Cracking the Coding Interview  \\nSDash Jul 2018\\n'"
      ]
     },
     "execution_count": 2,
     "metadata": {},
     "output_type": "execute_result"
    }
   ],
   "source": [
    "'''\n",
    "My solutions to problems in Cracking the Coding Interview Book\n",
    "SDash Jul 2018\n",
    "'''"
   ]
  },
  {
   "cell_type": "code",
   "execution_count": 3,
   "metadata": {},
   "outputs": [],
   "source": [
    "# headers you might require\n",
    "import numpy as np\n",
    "import collections"
   ]
  },
  {
   "cell_type": "code",
   "execution_count": 4,
   "metadata": {},
   "outputs": [],
   "source": [
    "# Question 1.1 Unique Charecters in a string\n",
    "\n",
    "class Sol_11:\n",
    "    def uniqChar(self, str1):\n",
    "        for i in range(1,200):\n",
    "            for j in range(len(str1)):\n",
    "                s = map(lambda x: x - i, map(lambda y: ord(y), str1))\n",
    "                d = list(filter(lambda x: x == 0, s))\n",
    "                if len(d) > 1:\n",
    "                    return False\n",
    "        return True\n"
   ]
  },
  {
   "cell_type": "code",
   "execution_count": 27,
   "metadata": {},
   "outputs": [],
   "source": [
    "# Question 1.3 URLify\n",
    "class Sol_13:\n",
    "    def __init__(self, name, len_str):\n",
    "        self.name = name\n",
    "        self.len_str = len_str\n",
    "    \n",
    "    # created \n",
    "    def URLify(self):\n",
    "        str_new = ''\n",
    "        count = 0\n",
    "        for i in range(self.len_str):\n",
    "            if self.name[i] == \" \" :\n",
    "                str_new += '%20'\n",
    "            else:\n",
    "                str_new += self.name[i]\n",
    "            count += 1\n",
    "        return str_new"
   ]
  },
  {
   "cell_type": "code",
   "execution_count": 37,
   "metadata": {},
   "outputs": [],
   "source": [
    "# Question 1.5 Check if two strings are one (or zero) edit away\n",
    "class Sol_15:\n",
    "    def __init__(self, str1, str2):\n",
    "        self.str1 = str1\n",
    "        self.str2 = str2\n",
    "    \n",
    "    def edit_dist(self):\n",
    "        l1 = len(self.str1)\n",
    "        l2 = len(self.str2)\n",
    "        count1 = 0\n",
    "        count2 = 0\n",
    "        # hash table instialised with int keys as 0 valued \n",
    "        H = collections.defaultdict(int)\n",
    "        for i in range(l1):\n",
    "            H[ord(self.str1[i])] += 1\n",
    "        for j in range(l2):\n",
    "            H[ord(self.str2[j])] += 1\n",
    "        keys = H.keys()\n",
    "        for ele in keys:\n",
    "            if H[ele] == 1:\n",
    "                count1 += 1\n",
    "            elif H[ele] == 2:\n",
    "                count2 += 1\n",
    "        if count2 == max(l1, l2) - 1 and count1 == 1:\n",
    "            return True\n",
    "        return False"
   ]
  },
  {
   "cell_type": "code",
   "execution_count": 53,
   "metadata": {},
   "outputs": [],
   "source": [
    "# Question 1.7 Rotate Matrix 90 degrees in-place\n",
    "class Sol_17:\n",
    "    def __init__(self, A):\n",
    "        self.A = A\n",
    "    \n",
    "    def rotate90(self):\n",
    "        N = len(A)\n",
    "        for i in range(N//2):\n",
    "            for j in range(i, N-1-i):\n",
    "                # swapping the elements\n",
    "                temp = A[i][j]\n",
    "                A[i][j] = A[j][N-1-i]\n",
    "                A[j][N-i-1] = A[N-i-1][N-1-j]\n",
    "                A[N-i-1][N-1-j] = A[N-1-j][i]\n",
    "                A[N-1-j][i] = temp"
   ]
  },
  {
   "cell_type": "code",
   "execution_count": 54,
   "metadata": {},
   "outputs": [],
   "source": [
    "# helper function for displaying matrix\n",
    "def displayMat(A):\n",
    "    N = len(A)\n",
    "    for i in range(0, N):\n",
    "        for j in range(0, N):\n",
    "            print (A[i][j], end = ' ')\n",
    "        print (\"\")"
   ]
  },
  {
   "cell_type": "code",
   "execution_count": null,
   "metadata": {},
   "outputs": [],
   "source": [
    "# node class for linked list\n",
    "class Node:\n",
    "    def __init__(self, val):\n",
    "        self.next = None\n",
    "        self.val = val\n",
    "\n",
    "class Sol_21(Node):\n",
    "    "
   ]
  },
  {
   "cell_type": "code",
   "execution_count": null,
   "metadata": {},
   "outputs": [],
   "source": []
  },
  {
   "cell_type": "code",
   "execution_count": null,
   "metadata": {},
   "outputs": [],
   "source": []
  },
  {
   "cell_type": "code",
   "execution_count": null,
   "metadata": {},
   "outputs": [],
   "source": []
  },
  {
   "cell_type": "code",
   "execution_count": null,
   "metadata": {},
   "outputs": [],
   "source": []
  },
  {
   "cell_type": "code",
   "execution_count": null,
   "metadata": {},
   "outputs": [],
   "source": []
  },
  {
   "cell_type": "code",
   "execution_count": null,
   "metadata": {},
   "outputs": [],
   "source": []
  },
  {
   "cell_type": "code",
   "execution_count": null,
   "metadata": {},
   "outputs": [],
   "source": []
  },
  {
   "cell_type": "code",
   "execution_count": null,
   "metadata": {},
   "outputs": [],
   "source": []
  },
  {
   "cell_type": "code",
   "execution_count": 55,
   "metadata": {},
   "outputs": [
    {
     "name": "stdout",
     "output_type": "stream",
     "text": [
      "1 2 3 \n",
      "4 5 6 \n",
      "7 8 9 \n",
      "3 6 9 \n",
      "2 5 8 \n",
      "1 4 7 \n"
     ]
    }
   ],
   "source": [
    "if __name__ == \"__main__\":\n",
    "    A = [[1, 2, 3],[4, 5, 6], [7, 8, 9]]\n",
    "    displayMat(A)\n",
    "    sol17 = Sol_17(A)\n",
    "    sol17.rotate90()\n",
    "    displayMat(A)\n",
    "    "
   ]
  },
  {
   "cell_type": "code",
   "execution_count": null,
   "metadata": {},
   "outputs": [],
   "source": []
  }
 ],
 "metadata": {
  "kernelspec": {
   "display_name": "Python 3",
   "language": "python",
   "name": "python3"
  },
  "language_info": {
   "codemirror_mode": {
    "name": "ipython",
    "version": 3
   },
   "file_extension": ".py",
   "mimetype": "text/x-python",
   "name": "python",
   "nbconvert_exporter": "python",
   "pygments_lexer": "ipython3",
   "version": "3.6.1"
  }
 },
 "nbformat": 4,
 "nbformat_minor": 2
}
